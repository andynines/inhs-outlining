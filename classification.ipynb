{
 "cells": [
  {
   "cell_type": "code",
   "execution_count": 3,
   "metadata": {
    "collapsed": true
   },
   "outputs": [],
   "source": [
    "from classif import *\n",
    "\n",
    "from sklearn.svm import SVC\n",
    "import xgboost as xgb"
   ]
  },
  {
   "cell_type": "code",
   "execution_count": 4,
   "outputs": [],
   "source": [
    "X, Y = load_mat(\"1mm_fifteen_species.csv\")\n",
    "Xn = normalize(X)\n",
    "Xr = lda_reduce(Xn, Y)"
   ],
   "metadata": {
    "collapsed": false,
    "pycharm": {
     "name": "#%%\n"
    }
   }
  },
  {
   "cell_type": "code",
   "execution_count": 5,
   "outputs": [
    {
     "name": "stdout",
     "output_type": "stream",
     "text": [
      "Model: SVC(kernel='linear', probability=True, random_state=0)\n",
      "----- TOP 1 -----\n",
      "acc:   83.2%\n",
      "std:   2.7%\n",
      "----- TOP 3 -----\n",
      "acc:   97.5%\n",
      "std:   1.2%\n",
      "----- TOP 5 -----\n",
      "acc:   99.6%\n",
      "std:   0.3%\n"
     ]
    }
   ],
   "source": [
    "run_trial_with(SVC(random_state=0, kernel='linear', probability=True), Xr, Y)"
   ],
   "metadata": {
    "collapsed": false,
    "pycharm": {
     "name": "#%%\n"
    }
   }
  },
  {
   "cell_type": "code",
   "execution_count": 6,
   "outputs": [
    {
     "name": "stdout",
     "output_type": "stream",
     "text": [
      "Model: XGBClassifier(base_score=None, booster=None, callbacks=None,\n",
      "              colsample_bylevel=None, colsample_bynode=None,\n",
      "              colsample_bytree=None, early_stopping_rounds=None,\n",
      "              enable_categorical=False, eval_metric=None, gamma=None,\n",
      "              gpu_id=None, grow_policy=None, importance_type=None,\n",
      "              interaction_constraints=None, learning_rate=None, max_bin=None,\n",
      "              max_cat_to_onehot=None, max_delta_step=None, max_depth=None,\n",
      "              max_leaves=None, min_child_weight=None, missing=nan,\n",
      "              monotone_constraints=None, n_estimators=100, n_jobs=None,\n",
      "              num_parallel_tree=None, predictor=None, random_state=0,\n",
      "              reg_alpha=None, reg_lambda=None, ...)\n",
      "----- TOP 1 -----\n",
      "acc:   81.7%\n",
      "std:   3.1%\n",
      "----- TOP 3 -----\n",
      "acc:   95.8%\n",
      "std:   1.2%\n",
      "----- TOP 5 -----\n",
      "acc:   98.6%\n",
      "std:   0.6%\n"
     ]
    }
   ],
   "source": [
    "run_trial_with(xgb.XGBClassifier(random_state=0), Xr, np.unique(Y, return_inverse=True)[1])"
   ],
   "metadata": {
    "collapsed": false,
    "pycharm": {
     "name": "#%%\n"
    }
   }
  }
 ],
 "metadata": {
  "kernelspec": {
   "display_name": "Python 3",
   "language": "python",
   "name": "python3"
  },
  "language_info": {
   "codemirror_mode": {
    "name": "ipython",
    "version": 2
   },
   "file_extension": ".py",
   "mimetype": "text/x-python",
   "name": "python",
   "nbconvert_exporter": "python",
   "pygments_lexer": "ipython2",
   "version": "2.7.6"
  }
 },
 "nbformat": 4,
 "nbformat_minor": 0
}