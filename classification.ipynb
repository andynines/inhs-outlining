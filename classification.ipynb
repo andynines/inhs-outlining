{
 "cells": [
  {
   "cell_type": "code",
   "execution_count": 1,
   "metadata": {
    "collapsed": true
   },
   "outputs": [],
   "source": [
    "from classif import *\n",
    "\n",
    "from sklearn.svm import SVC\n",
    "from sklearn.neural_network import MLPClassifier\n",
    "import xgboost as xgb\n",
    "from sklearn.neighbors import KNeighborsClassifier\n",
    "from sklearn.cluster import KMeans, AgglomerativeClustering, SpectralClustering\n",
    "from sklearn.metrics import adjusted_rand_score, adjusted_mutual_info_score"
   ]
  },
  {
   "cell_type": "code",
   "execution_count": 2,
   "outputs": [],
   "source": [
    "# Classifier models\n",
    "svm = SVC(random_state=0, kernel='linear', C=0.1, probability=True)\n",
    "xgbooster = xgb.XGBClassifier(random_state=0, n_estimators=150, n_jobs=8)\n",
    "mlp = MLPClassifier(random_state=0, max_iter=1000, solver=\"adam\", alpha=0.1)\n",
    "knn = KNeighborsClassifier(n_neighbors=7)"
   ],
   "metadata": {
    "collapsed": false,
    "pycharm": {
     "name": "#%%\n"
    }
   }
  },
  {
   "cell_type": "code",
   "execution_count": 3,
   "outputs": [],
   "source": [
    "def run_classification_experiment(X, Y, min_rows_per_label=0):\n",
    "    # Test the given dataset's classifiability for four models\n",
    "    run_cv_trials(svm, X, Y, folds=5)\n",
    "    run_cv_trials(xgbooster, X, np.unique(Y, return_inverse=True)[1], folds=5)\n",
    "    run_cv_trials(mlp, X, Y, folds=5)\n",
    "    run_cv_trials(knn, X, Y, folds=5)"
   ],
   "metadata": {
    "collapsed": false,
    "pycharm": {
     "name": "#%%\n"
    }
   }
  },
  {
   "cell_type": "code",
   "execution_count": 4,
   "outputs": [],
   "source": [
    "def run_clustering_experiment(X, Y):\n",
    "    # Evaluate accuracy of an unsupervised clustering of the given dataset\n",
    "    n_clusters = len(np.unique(Y))\n",
    "    algos = [\n",
    "        KMeans(n_clusters=n_clusters, random_state=0),\n",
    "        AgglomerativeClustering(n_clusters=n_clusters),\n",
    "        SpectralClustering(n_clusters=n_clusters)\n",
    "    ]\n",
    "    for algo in algos:\n",
    "        print(\"Method:\", algo)\n",
    "        clus = algo.fit(X, Y)\n",
    "        print(\"rand:   %.3f\" % adjusted_rand_score(Y, clus.labels_))\n",
    "        print(\"minf:   %.3f\" % adjusted_mutual_info_score(Y, clus.labels_))"
   ],
   "metadata": {
    "collapsed": false,
    "pycharm": {
     "name": "#%%\n"
    }
   }
  },
  {
   "cell_type": "code",
   "execution_count": 5,
   "outputs": [],
   "source": [
    "def run_all_experiments_on_dataset(dataset_csv, do_clustering=True, min_rows_per_label=0):\n",
    "    X, Y = load_mat(dataset_csv)\n",
    "    Xn = normalize(X)\n",
    "    print(\"--- Classification ---\")\n",
    "    run_classification_experiment(Xn, Y, min_rows_per_label=min_rows_per_label)\n",
    "    if do_clustering:\n",
    "        print(\"--- Clustering ---\")\n",
    "        run_clustering_experiment(Xn, Y)"
   ],
   "metadata": {
    "collapsed": false,
    "pycharm": {
     "name": "#%%\n"
    }
   }
  },
  {
   "cell_type": "code",
   "execution_count": 6,
   "outputs": [
    {
     "name": "stdout",
     "output_type": "stream",
     "text": [
      "--- Classification ---\n",
      "Model: SVC(C=0.1, kernel='linear', probability=True, random_state=0)\n",
      "avg:   77.3%\n",
      "std:   2.2%\n",
      "Model: XGBClassifier(base_score=None, booster=None, callbacks=None,\n",
      "              colsample_bylevel=None, colsample_bynode=None,\n",
      "              colsample_bytree=None, early_stopping_rounds=None,\n",
      "              enable_categorical=False, eval_metric=None, gamma=None,\n",
      "              gpu_id=None, grow_policy=None, importance_type=None,\n",
      "              interaction_constraints=None, learning_rate=None, max_bin=None,\n",
      "              max_cat_to_onehot=None, max_delta_step=None, max_depth=None,\n",
      "              max_leaves=None, min_child_weight=None, missing=nan,\n",
      "              monotone_constraints=None, n_estimators=150, n_jobs=8,\n",
      "              num_parallel_tree=None, predictor=None, random_state=0,\n",
      "              reg_alpha=None, reg_lambda=None, ...)\n",
      "avg:   75.4%\n",
      "std:   0.6%\n",
      "Model: MLPClassifier(alpha=0.1, max_iter=1000, random_state=0)\n",
      "avg:   76.8%\n",
      "std:   1.8%\n",
      "Model: KNeighborsClassifier(n_neighbors=7)\n",
      "avg:   75.7%\n",
      "std:   3.0%\n",
      "--- Clustering ---\n",
      "Method: KMeans(n_clusters=15, random_state=0)\n",
      "rand:   0.312\n",
      "minf:   0.519\n",
      "Method: AgglomerativeClustering(n_clusters=15)\n",
      "rand:   0.338\n",
      "minf:   0.546\n",
      "Method: SpectralClustering(n_clusters=15)\n",
      "rand:   0.287\n",
      "minf:   0.513\n"
     ]
    }
   ],
   "source": [
    "run_all_experiments_on_dataset(\"1mm_fifteen_species.csv\")"
   ],
   "metadata": {
    "collapsed": false,
    "pycharm": {
     "name": "#%%\n"
    }
   }
  },
  {
   "cell_type": "code",
   "execution_count": 7,
   "outputs": [
    {
     "name": "stdout",
     "output_type": "stream",
     "text": [
      "--- Classification ---\n",
      "Model: SVC(C=0.1, kernel='linear', probability=True, random_state=0)\n",
      "avg:   96.5%\n",
      "std:   0.8%\n",
      "Model: XGBClassifier(base_score=0.5, booster='gbtree', callbacks=None,\n",
      "              colsample_bylevel=1, colsample_bynode=1, colsample_bytree=1,\n",
      "              early_stopping_rounds=None, enable_categorical=False,\n",
      "              eval_metric=None, gamma=0, gpu_id=-1, grow_policy='depthwise',\n",
      "              importance_type=None, interaction_constraints='',\n",
      "              learning_rate=0.300000012, max_bin=256, max_cat_to_onehot=4,\n",
      "              max_delta_step=0, max_depth=6, max_leaves=0, min_child_weight=1,\n",
      "              missing=nan, monotone_constraints='()', n_estimators=150,\n",
      "              n_jobs=8, num_parallel_tree=1, objective='multi:softprob',\n",
      "              predictor='auto', random_state=0, reg_alpha=0, ...)\n",
      "avg:   94.8%\n",
      "std:   0.9%\n",
      "Model: MLPClassifier(alpha=0.1, max_iter=1000, random_state=0)\n",
      "avg:   95.9%\n",
      "std:   0.8%\n",
      "Model: KNeighborsClassifier(n_neighbors=7)\n",
      "avg:   95.9%\n",
      "std:   1.0%\n",
      "--- Clustering ---\n",
      "Method: KMeans(n_clusters=7, random_state=0)\n",
      "rand:   0.645\n",
      "minf:   0.731\n",
      "Method: AgglomerativeClustering(n_clusters=7)\n",
      "rand:   0.704\n",
      "minf:   0.778\n",
      "Method: SpectralClustering(n_clusters=7)\n",
      "rand:   0.513\n",
      "minf:   0.599\n"
     ]
    }
   ],
   "source": [
    "run_all_experiments_on_dataset(\"1mm_seven_genera.csv\")"
   ],
   "metadata": {
    "collapsed": false,
    "pycharm": {
     "name": "#%%\n"
    }
   }
  },
  {
   "cell_type": "code",
   "execution_count": 8,
   "outputs": [
    {
     "name": "stdout",
     "output_type": "stream",
     "text": [
      "--- Classification ---\n",
      "Model: SVC(C=0.1, kernel='linear', probability=True, random_state=0)\n",
      "avg:   96.1%\n",
      "std:   1.3%\n",
      "Model: XGBClassifier(base_score=0.5, booster='gbtree', callbacks=None,\n",
      "              colsample_bylevel=1, colsample_bynode=1, colsample_bytree=1,\n",
      "              early_stopping_rounds=None, enable_categorical=False,\n",
      "              eval_metric=None, gamma=0, gpu_id=-1, grow_policy='depthwise',\n",
      "              importance_type=None, interaction_constraints='',\n",
      "              learning_rate=0.300000012, max_bin=256, max_cat_to_onehot=4,\n",
      "              max_delta_step=0, max_depth=6, max_leaves=0, min_child_weight=1,\n",
      "              missing=nan, monotone_constraints='()', n_estimators=150,\n",
      "              n_jobs=8, num_parallel_tree=1, objective='multi:softprob',\n",
      "              predictor='auto', random_state=0, reg_alpha=0, ...)\n",
      "avg:   94.9%\n",
      "std:   1.1%\n",
      "Model: MLPClassifier(alpha=0.1, max_iter=1000, random_state=0)\n",
      "avg:   96.0%\n",
      "std:   1.3%\n",
      "Model: KNeighborsClassifier(n_neighbors=7)\n",
      "avg:   95.8%\n",
      "std:   0.6%\n",
      "--- Clustering ---\n",
      "Method: KMeans(n_clusters=7, random_state=0)\n",
      "rand:   0.611\n",
      "minf:   0.734\n",
      "Method: AgglomerativeClustering(n_clusters=7)\n",
      "rand:   0.585\n",
      "minf:   0.731\n",
      "Method: SpectralClustering(n_clusters=7)\n",
      "rand:   0.584\n",
      "minf:   0.661\n"
     ]
    }
   ],
   "source": [
    "run_all_experiments_on_dataset(\"1mm_aug_seven_genera.csv\", do_clustering=True)"
   ],
   "metadata": {
    "collapsed": false,
    "pycharm": {
     "name": "#%%\n"
    }
   }
  },
  {
   "cell_type": "code",
   "execution_count": 9,
   "outputs": [
    {
     "name": "stdout",
     "output_type": "stream",
     "text": [
      "--- Classification ---\n",
      "Model: SVC(C=0.1, kernel='linear', probability=True, random_state=0)\n",
      "avg:   96.1%\n",
      "std:   1.3%\n",
      "Model: XGBClassifier(base_score=0.5, booster='gbtree', callbacks=None,\n",
      "              colsample_bylevel=1, colsample_bynode=1, colsample_bytree=1,\n",
      "              early_stopping_rounds=None, enable_categorical=False,\n",
      "              eval_metric=None, gamma=0, gpu_id=-1, grow_policy='depthwise',\n",
      "              importance_type=None, interaction_constraints='',\n",
      "              learning_rate=0.300000012, max_bin=256, max_cat_to_onehot=4,\n",
      "              max_delta_step=0, max_depth=6, max_leaves=0, min_child_weight=1,\n",
      "              missing=nan, monotone_constraints='()', n_estimators=150,\n",
      "              n_jobs=8, num_parallel_tree=1, objective='multi:softprob',\n",
      "              predictor='auto', random_state=0, reg_alpha=0, ...)\n",
      "avg:   94.9%\n",
      "std:   1.1%\n",
      "Model: MLPClassifier(alpha=0.1, max_iter=1000, random_state=0)\n",
      "avg:   96.0%\n",
      "std:   1.3%\n",
      "Model: KNeighborsClassifier(n_neighbors=7)\n",
      "avg:   95.8%\n",
      "std:   0.6%\n",
      "--- Clustering ---\n",
      "Method: KMeans(n_clusters=7, random_state=0)\n",
      "rand:   0.611\n",
      "minf:   0.734\n",
      "Method: AgglomerativeClustering(n_clusters=7)\n",
      "rand:   0.585\n",
      "minf:   0.731\n",
      "Method: SpectralClustering(n_clusters=7)\n",
      "rand:   0.584\n",
      "minf:   0.661\n"
     ]
    }
   ],
   "source": [
    "run_all_experiments_on_dataset(\"1mm_aug_seven_genera.csv\", min_rows_per_label=500, do_clustering=True)"
   ],
   "metadata": {
    "collapsed": false,
    "pycharm": {
     "name": "#%%\n"
    }
   }
  },
  {
   "cell_type": "code",
   "execution_count": 10,
   "outputs": [],
   "source": [
    "def run_in_depth_classification_experiment(dataset_csv, clf):\n",
    "    X, Y = load_mat(dataset_csv)\n",
    "    Xn = normalize(X)\n",
    "    show_confusion_mat(clf, Xn, Y)\n",
    "    run_cv_trials(clf, Xn, Y, folds=5, score=f1_scorer)\n",
    "    run_cv_trials(clf, Xn, Y, folds=5, score=precision_scorer)\n",
    "    run_cv_trials(clf, Xn, Y, folds=5, score=recall_scorer)"
   ],
   "metadata": {
    "collapsed": false,
    "pycharm": {
     "name": "#%%\n"
    }
   }
  },
  {
   "cell_type": "code",
   "execution_count": 11,
   "outputs": [
    {
     "data": {
      "text/plain": "<Figure size 640x480 with 2 Axes>",
      "image/png": "[encoded data removed]"
     },
     "metadata": {},
     "output_type": "display_data"
    },
    {
     "name": "stdout",
     "output_type": "stream",
     "text": [
      "Model: SVC(C=0.1, kernel='linear', probability=True, random_state=0)\n",
      "avg:   96.6%\n",
      "std:   0.7%\n",
      "Model: SVC(C=0.1, kernel='linear', probability=True, random_state=0)\n",
      "avg:   96.7%\n",
      "std:   0.7%\n",
      "Model: SVC(C=0.1, kernel='linear', probability=True, random_state=0)\n",
      "avg:   96.6%\n",
      "std:   0.7%\n"
     ]
    }
   ],
   "source": [
    "run_in_depth_classification_experiment(\"1mm_seven_genera.csv\", svm)"
   ],
   "metadata": {
    "collapsed": false,
    "pycharm": {
     "name": "#%%\n"
    }
   }
  },
  {
   "cell_type": "code",
   "execution_count": 11,
   "outputs": [],
   "source": [],
   "metadata": {
    "collapsed": false,
    "pycharm": {
     "name": "#%%\n"
    }
   }
  }
 ],
 "metadata": {
  "kernelspec": {
   "display_name": "Python 3",
   "language": "python",
   "name": "python3"
  },
  "language_info": {
   "codemirror_mode": {
    "name": "ipython",
    "version": 2
   },
   "file_extension": ".py",
   "mimetype": "text/x-python",
   "name": "python",
   "nbconvert_exporter": "python",
   "pygments_lexer": "ipython2",
   "version": "2.7.6"
  }
 },
 "nbformat": 4,
 "nbformat_minor": 0
}